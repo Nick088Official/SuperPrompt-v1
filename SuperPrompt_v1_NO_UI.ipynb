{
  "nbformat": 4,
  "nbformat_minor": 0,
  "metadata": {
    "colab": {
      "provenance": []
    },
    "kernelspec": {
      "name": "python3",
      "display_name": "Python 3"
    },
    "language_info": {
      "name": "python"
    }
  },
  "cells": [
    {
      "cell_type": "markdown",
      "source": [
        "# Run SuperPrompt-v1 AI Model NO UI\n",
        "\n",
        "Make your prompts better for AI Art or in general!\n",
        "\n",
        "[Github Repository & Used Model](https://github.com/Nick088Official/SuperPrompt-v1)\n",
        "\n",
        "[Model Blog](https://brianfitzgerald.xyz/prompt-augmentation/)\n",
        "\n",
        "Google Colab Notebook Made by [Nick088](https://linktr.ee/Nick088)"
      ],
      "metadata": {
        "id": "rhAucpX5Li7V"
      }
    },
    {
      "cell_type": "code",
      "source": [
        "#@title Install\n",
        "\n",
        "#@markdown If you wanna use CPU (slower, max 12 free hours daily limit): Set the CPU from Edit -> Notebook Settings -> CPU\n",
        "\n",
        "#@markdown If you wanna use GPU (faster, max 12 free hours daily limit): Set the Video Card from Edit -> Notebook Settings -> T4 GPU OR Any other GPUs based on your Google Colab Subscription\n",
        "\n",
        "#@markdown Anyways its a very small model, it doesn't matter much if you use cpu or gpu.\n",
        "\n",
        "import torch\n",
        "from IPython.display import clear_output\n",
        "\n",
        "if torch.cuda.is_available():\n",
        "    device = \"cuda\"\n",
        "    print(\"Using GPU\")\n",
        "else:\n",
        "    device = \"cpu\"\n",
        "    print(\"Using CPU\")\n",
        "\n",
        "!git clone https://github.com/Nick088Official/SuperPrompt-v1.git\n",
        "%cd SuperPrompt-v1/Scripts\n",
        "!pip install -r requirements_no_ui.txt\n",
        "\n",
        "clear_output()\n",
        "print(f\"Downloaded SuperPrompt-v1 on {'GPU' if device == 'cuda' else 'CPU'}\")"
      ],
      "metadata": {
        "id": "GyK68jfLe5gy",
        "cellView": "form"
      },
      "execution_count": null,
      "outputs": []
    },
    {
      "cell_type": "code",
      "source": [
        "#@title Run Inference\n",
        "\n",
        "#@markdown Write here the prompt you want to make better detailed description.\n",
        "your_prompt = \"a big black car\" #@param {type:\"string\"}\n",
        "\n",
        "#@markdown The prompt prefix for how the AI should make yours better\n",
        "task_prefix = \"Expand the following prompt to add more detail\" #@param {type:\"string\"}\n",
        "\n",
        "#@markdown Maximum number of the tokens to generate, controls how long is the text.\n",
        "max_new_tokens = 512 #@param {type:\"slider\", min:250, max:512, step:1}\n",
        "\n",
        "#@markdown Penalize repeated tokens, so make the AI repeat less of itself\n",
        "repetition_penalty = 1.2 #@param {type:\"slider\", min:0.0, max:2.0, step:0.05}\n",
        "\n",
        "#@markdown Higher values produce more diverse outputs\n",
        "temperature = 0.5 #@param {type:\"slider\", min:0.0, max:1.00, step:0.05}\n",
        "\n",
        "#@markdown The precision type to load the model, like fp16 which is faster, or fp32 which is more precise but more resource consuming and requires paid gpu\n",
        "model_precision_type = 'fp16' #@param ['fp16', 'fp32']\n",
        "\n",
        "#@markdown Higher values sample more low-probability tokens\n",
        "top_p = 1 #@param {type:\"slider\", min:0.0, max:2.0, step:0.05}\n",
        "\n",
        "#@markdown Higher k means more diverse outputs by considering a range of tokens\n",
        "top_k = 1 #@param {type:\"slider\", min:1, max:100, step:1}\n",
        "\n",
        "#@markdown A starting point to initiate the generation process, put 0 for random seed\n",
        "seed = 42 #@param {type:\"slider\", min:0, max:4294967295, step:1}\n",
        "\n",
        "command = f'install_and_run_no_ui.py \"{your_prompt}\" \"{task_prefix}\" {max_new_tokens} {repetition_penalty} {temperature} {model_precision_type} {top_p} {top_k} {seed}'\n",
        "\n",
        "!python $command"
      ],
      "metadata": {
        "id": "4901EHafGkhK",
        "cellView": "form",
        "collapsed": true
      },
      "execution_count": null,
      "outputs": []
    }
  ]
}