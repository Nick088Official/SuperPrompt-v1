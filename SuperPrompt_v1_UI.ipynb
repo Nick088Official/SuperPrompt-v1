{
  "nbformat": 4,
  "nbformat_minor": 0,
  "metadata": {
    "colab": {
      "provenance": []
    },
    "kernelspec": {
      "name": "python3",
      "display_name": "Python 3"
    },
    "language_info": {
      "name": "python"
    }
  },
  "cells": [
    {
      "cell_type": "markdown",
      "source": [
        "# Run SuperPrompt-v1 AI Model Gradio WEB UI\n",
        "\n",
        "Make your prompts better for AI Art or in general!\n",
        "\n",
        "Used Model: https://huggingface.co/roborovski/superprompt-v1\n",
        "\n",
        "Blog Model: https://brianfitzgerald.xyz/prompt-augmentation/\n",
        "\n",
        "Google Colab Notebook Made by [Nick088](https://linktr.ee/Nick088)"
      ],
      "metadata": {
        "id": "rhAucpX5Li7V"
      }
    },
    {
      "cell_type": "code",
      "source": [
        "#@title Install\n",
        "\n",
        "#@markdown If you wanna use CPU (slower, no daily limit): Set the CPU from Edit -> Notebook Settings -> CPU\n",
        "\n",
        "#@markdown If you wanna use GPU (faster, max 12 free hours daily limit): Set the Video Card from Edit -> Notebook Settings -> T4 GPU OR Any other GPUs based on your Google Colab Subscription\n",
        "\n",
        "#@markdown Anyways its a very small model, it doesn't matter much if you use cpu or gpu.\n",
        "!git clone https://huggingface.co/spaces/Nick088/SuperPrompt-v1\n",
        "%cd SuperPrompt-v1\n",
        "!pip install -r requirements.txt\n",
        "from IPython.display import clear_output\n",
        "\n",
        "clear_output()\n",
        "print(f\"Downloaded SuperPrompt-v1\")\n"
      ],
      "metadata": {
        "id": "GyK68jfLe5gy",
        "cellView": "form"
      },
      "execution_count": null,
      "outputs": []
    },
    {
      "cell_type": "code",
      "source": [
        "#@title Run UI\n",
        "#@markdown Click the gradio public link without closing the Google Colab\n",
        "%cd SuperPrompt-v1\n",
        "\n",
        "def replace_line_in_file(file_path, line_number, new_line):\n",
        "    try:\n",
        "        # Read the existing file content\n",
        "        with open(file_path, 'r') as file:\n",
        "            lines = file.readlines()\n",
        "\n",
        "        # Check if the line number is valid\n",
        "        if 1 <= line_number <= len(lines):\n",
        "            # Replace the line\n",
        "            lines[line_number - 1] = new_line\n",
        "\n",
        "            # Write the updated content back to the file\n",
        "            with open(file_path, 'w') as file:\n",
        "                file.writelines(lines)\n",
        "            return True\n",
        "        else:\n",
        "            print(f\"Error: Line number {line_number} is out of range.\")\n",
        "            return False\n",
        "    except Exception as e:\n",
        "        print(f\"Error: {str(e)}\")\n",
        "        return False\n",
        "\n",
        "# usage\n",
        "file_path = \"app.py\"\n",
        "line_number = 91\n",
        "new_line = \").launch(show_api=False, share=True)\"\n",
        "\n",
        "if replace_line_in_file(file_path, line_number, new_line):\n",
        "    print(f\"Line {line_number} in {file_path} was successfully replaced.\")\n",
        "    clear_output()\n",
        "else:\n",
        "    print(f\"Failed to replace line {line_number} in {file_path}.\")\n",
        "\n",
        "!python app.py"
      ],
      "metadata": {
        "id": "4901EHafGkhK",
        "cellView": "form"
      },
      "execution_count": null,
      "outputs": []
    }
  ]
}